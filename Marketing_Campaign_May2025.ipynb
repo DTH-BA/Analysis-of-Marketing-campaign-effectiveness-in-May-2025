{
 "cells": [
  {
   "cell_type": "code",
   "execution_count": 1,
   "id": "be3590ca-d39f-4220-8654-5a2278746776",
   "metadata": {},
   "outputs": [
    {
     "name": "stdout",
     "output_type": "stream",
     "text": [
      "<class 'pandas.core.frame.DataFrame'>\n",
      "RangeIndex: 8 entries, 0 to 7\n",
      "Data columns (total 5 columns):\n",
      " #   Column         Non-Null Count  Dtype  \n",
      "---  ------         --------------  -----  \n",
      " 0   campaign_id    6 non-null      float64\n",
      " 1   campaign_name  6 non-null      object \n",
      " 2   budget         6 non-null      float64\n",
      " 3   start_date     6 non-null      object \n",
      " 4   end_date       6 non-null      object \n",
      "dtypes: float64(2), object(3)\n",
      "memory usage: 452.0+ bytes\n",
      "None\n",
      "   campaign_id     campaign_name  budget start_date   end_date\n",
      "0          1.0       Summer Sale  5000.0  4/15/2025  5/10/2025\n",
      "1          2.0    New User Promo  3000.0   5/1/2025  5/31/2025\n",
      "2          3.0    Mid-Year Bonus  7000.0  5/10/2025  6/15/2025\n",
      "3          4.0        Flash Deal  2000.0  5/20/2025  5/25/2025\n",
      "4          5.0  Member Exclusive  4000.0   4/1/2025  5/30/2025\n",
      "       campaign_id       budget\n",
      "count     6.000000     6.000000\n",
      "mean      3.500000  4500.000000\n",
      "std       1.870829  1870.828693\n",
      "min       1.000000  2000.000000\n",
      "25%       2.250000  3250.000000\n",
      "50%       3.500000  4500.000000\n",
      "75%       4.750000  5750.000000\n",
      "max       6.000000  7000.000000\n"
     ]
    }
   ],
   "source": [
    "import pandas as pd\n",
    "\n",
    "df1 = pd.read_csv(r'C:\\Users\\theha\\OneDrive\\Desktop\\Projects\\📊 Phân tích hiệu quả chiến dịch Marketing tháng 52025\\raw data\\campaign_data.csv')\n",
    "df2 = pd.read_csv(r'C:\\Users\\theha\\OneDrive\\Desktop\\Projects\\📊 Phân tích hiệu quả chiến dịch Marketing tháng 52025\\raw data\\conversion_data_complex.csv')\n",
    "df3 = pd.read_csv(r'C:\\Users\\theha\\OneDrive\\Desktop\\Projects\\📊 Phân tích hiệu quả chiến dịch Marketing tháng 52025\\raw data\\user_region.csv')\n",
    "\n",
    "print(df1.info())\n",
    "print(df1.head())\n",
    "print(df1.describe())"
   ]
  },
  {
   "cell_type": "code",
   "execution_count": 2,
   "id": "be2e502e-e0b5-49c5-b387-3743776a23ce",
   "metadata": {},
   "outputs": [
    {
     "name": "stdout",
     "output_type": "stream",
     "text": [
      "<class 'pandas.core.frame.DataFrame'>\n",
      "RangeIndex: 541 entries, 0 to 540\n",
      "Data columns (total 5 columns):\n",
      " #   Column             Non-Null Count  Dtype  \n",
      "---  ------             --------------  -----  \n",
      " 0   conversion_id      541 non-null    int64  \n",
      " 1   campaign_id        541 non-null    int64  \n",
      " 2   user_id            541 non-null    object \n",
      " 3   conversion_date    541 non-null    object \n",
      " 4   revenue_generated  494 non-null    float64\n",
      "dtypes: float64(1), int64(2), object(2)\n",
      "memory usage: 21.3+ KB\n",
      "None\n",
      "   conversion_id  campaign_id user_id conversion_date  revenue_generated\n",
      "0              1            5   userC       5/25/2025             182.59\n",
      "1              2            2   userM        5/7/2025             199.59\n",
      "2              3            2  userLX       5/14/2025             181.19\n",
      "3              4            5   userW       5/24/2025              91.60\n",
      "4              5            4   userI       5/25/2025             284.00\n",
      "       conversion_id  campaign_id  revenue_generated\n",
      "count     541.000000   541.000000         494.000000\n",
      "mean      240.658041     2.887246         168.716377\n",
      "std       143.234357     1.615963          78.851801\n",
      "min         1.000000     1.000000          30.000000\n",
      "25%       115.000000     1.000000         100.312500\n",
      "50%       230.000000     2.000000         174.355000\n",
      "75%       365.000000     5.000000         239.042500\n",
      "max       500.000000     5.000000         300.000000\n"
     ]
    }
   ],
   "source": [
    "print(df2.info())\n",
    "print(df2.head())\n",
    "print(df2.describe())"
   ]
  },
  {
   "cell_type": "code",
   "execution_count": 3,
   "id": "75965005-29b4-4560-801e-9663d6e82609",
   "metadata": {},
   "outputs": [
    {
     "name": "stdout",
     "output_type": "stream",
     "text": [
      "<class 'pandas.core.frame.DataFrame'>\n",
      "RangeIndex: 237 entries, 0 to 236\n",
      "Data columns (total 2 columns):\n",
      " #   Column   Non-Null Count  Dtype \n",
      "---  ------   --------------  ----- \n",
      " 0   user_id  237 non-null    object\n",
      " 1   region   237 non-null    object\n",
      "dtypes: object(2)\n",
      "memory usage: 3.8+ KB\n",
      "None\n",
      "  user_id region\n",
      "0   userC   East\n",
      "1   userM   East\n",
      "2  userLX  North\n",
      "3   userW  South\n",
      "4   userI  South\n",
      "       user_id region\n",
      "count      237    237\n",
      "unique     237      4\n",
      "top      userC   East\n",
      "freq         1     69\n"
     ]
    }
   ],
   "source": [
    "print(df3.info())\n",
    "print(df3.head())\n",
    "print(df3.describe())"
   ]
  },
  {
   "cell_type": "code",
   "execution_count": 4,
   "id": "8cd91b6f-9282-46bb-bded-e84f5ca7af60",
   "metadata": {},
   "outputs": [],
   "source": [
    "# Convert date format\n",
    "df1['start_date'] = pd.to_datetime(df1['start_date'], errors='coerce')\n",
    "df1['end_date'] = pd.to_datetime(df1['end_date'], errors='coerce')\n",
    "df2['conversion_date'] = pd.to_datetime(df2['conversion_date'], errors='coerce')\n",
    "\n",
    "df1['campaign_id'] = df1['campaign_id'].fillna(0).astype(int)"
   ]
  },
  {
   "cell_type": "code",
   "execution_count": 5,
   "id": "8327f972-dafa-4b70-95a6-bf91e9afa978",
   "metadata": {},
   "outputs": [],
   "source": [
    "# Handling Missing Values\n",
    "df1.dropna(subset=['campaign_id','budget'], inplace=True) # Two blank lines with no data"
   ]
  },
  {
   "cell_type": "code",
   "execution_count": 6,
   "id": "747946a0-5d5e-4a70-b47f-53ce4db35ff9",
   "metadata": {},
   "outputs": [],
   "source": [
    "# Handling Missing Values (df2)\n",
    "# Important data used for predictive modeling\n",
    "from sklearn.ensemble import RandomForestRegressor\n",
    "\n",
    "temp_df = df2.dropna(subset=['revenue_generated'])\n",
    "\n",
    "model = RandomForestRegressor()\n",
    "model.fit(temp_df[['campaign_id', 'conversion_id']], temp_df['revenue_generated'])\n",
    "\n",
    "missing = df2[df2['revenue_generated'].isna()]\n",
    "predictions = model.predict(missing[['campaign_id', 'conversion_id']])\n",
    "df2.loc[df2['revenue_generated'].isna(), 'revenue_generated'] = predictions"
   ]
  },
  {
   "cell_type": "code",
   "execution_count": 7,
   "id": "6dbf087a-365f-4c9a-9acf-9af08f89fa4d",
   "metadata": {},
   "outputs": [],
   "source": [
    "# Eliminate duplicate data\n",
    "df1.drop_duplicates(inplace=True)\n",
    "df2.drop_duplicates(inplace=True)"
   ]
  },
  {
   "cell_type": "code",
   "execution_count": 8,
   "id": "3d952335-8124-4e49-bc70-fac61decb086",
   "metadata": {},
   "outputs": [],
   "source": [
    "# Generate a new unique ID for conversion_id\n",
    "df2['conversion_id'] = range(1, len(df2) + 1)"
   ]
  },
  {
   "cell_type": "code",
   "execution_count": 9,
   "id": "0f24a00d-1e41-46ca-8829-6d5a44a8b19d",
   "metadata": {},
   "outputs": [],
   "source": [
    "# Handling of fonts and whitespace\n",
    "df2['user_id'] = df2['user_id'].str.strip().str.upper()\n",
    "df3['user_id'] = df3['user_id'].str.strip().str.upper()"
   ]
  },
  {
   "cell_type": "code",
   "execution_count": 10,
   "id": "ee3ab8fc-3329-4b6e-a865-5d65337c7f22",
   "metadata": {},
   "outputs": [],
   "source": [
    "# Check and handle invalid data\n",
    "# Remove negative campaign_id\n",
    "df1 = df1[df1['campaign_id'] >=0]"
   ]
  },
  {
   "cell_type": "code",
   "execution_count": 11,
   "id": "6b8d1874-8df2-41e5-b999-27bb2b5a744a",
   "metadata": {},
   "outputs": [],
   "source": [
    "# Filter campaigns with end_date in May 2025\n",
    "campaign_may =  df1[(df1['end_date'].dt.month == 5) & (df1['end_date'].dt.year == 2025)]\n",
    "\n",
    "# Filter conversions with campaign_id belonging to campaigns ending in 5/2025\n",
    "campaign_ids_may = campaign_may['campaign_id'].dropna().unique()\n",
    "conversion_may = df2[df2['campaign_id'].isin(campaign_ids_may)]"
   ]
  },
  {
   "cell_type": "code",
   "execution_count": 12,
   "id": "1efd71a5-df48-477d-820c-390999d53a7a",
   "metadata": {},
   "outputs": [],
   "source": [
    "# Combine into a single summary table\n",
    "df_conv_camp = pd.merge(conversion_may, df1, on='campaign_id', how='left')\n",
    "df_final = pd.merge(df_conv_camp, df3, on='user_id', how='left')"
   ]
  },
  {
   "cell_type": "code",
   "execution_count": 13,
   "id": "deceafcf-2ad0-4aa4-906a-59f382f59747",
   "metadata": {},
   "outputs": [],
   "source": [
    "# Copy clean data and Save each table to CSV file\n",
    "df1_clean = df1.copy()\n",
    "df2_clean = df2.copy()\n",
    "df3_clean = df3.copy()\n",
    "\n",
    "df1_clean.to_csv(\"clean_campaign_data.csv\", index=False)\n",
    "df2_clean.to_csv(\"clean_conversion_data.csv\", index=False)\n",
    "df3_clean.to_csv(\"clean_user_region_data.csv\", index=False)"
   ]
  },
  {
   "cell_type": "code",
   "execution_count": 14,
   "id": "0fa02928-673a-4cd9-8ebc-9d885f2b91d5",
   "metadata": {},
   "outputs": [],
   "source": [
    "df_final.to_csv(\"final_conversions_may2025.csv\", index=False)"
   ]
  },
  {
   "cell_type": "code",
   "execution_count": 15,
   "id": "b6829e85-09c9-4a0c-afe6-cd8ac55baba3",
   "metadata": {},
   "outputs": [],
   "source": [
    "campaign_may.to_csv(\"campaign_ending_may2025.csv\", index=False)"
   ]
  },
  {
   "cell_type": "code",
   "execution_count": null,
   "id": "fbc9ced4-0d6d-471a-b27c-afcbb7c75cb0",
   "metadata": {},
   "outputs": [],
   "source": []
  }
 ],
 "metadata": {
  "kernelspec": {
   "display_name": "Python 3 (ipykernel)",
   "language": "python",
   "name": "python3"
  },
  "language_info": {
   "codemirror_mode": {
    "name": "ipython",
    "version": 3
   },
   "file_extension": ".py",
   "mimetype": "text/x-python",
   "name": "python",
   "nbconvert_exporter": "python",
   "pygments_lexer": "ipython3",
   "version": "3.12.6"
  }
 },
 "nbformat": 4,
 "nbformat_minor": 5
}
